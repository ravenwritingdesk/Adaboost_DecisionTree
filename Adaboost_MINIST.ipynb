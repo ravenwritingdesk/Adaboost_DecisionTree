{
 "cells": [
  {
   "cell_type": "markdown",
   "metadata": {},
   "source": [
    "# Adaboost对mnist数据集进行分类"
   ]
  },
  {
   "cell_type": "markdown",
   "metadata": {},
   "source": [
    "##### Copyright © 2020 by Wangchuwen，2018202114. All rights reserved."
   ]
  },
  {
   "cell_type": "markdown",
   "metadata": {},
   "source": [
    "## 一.装载数据集并且显示一个样板"
   ]
  },
  {
   "cell_type": "code",
   "execution_count": 1,
   "metadata": {},
   "outputs": [
    {
     "name": "stdout",
     "output_type": "stream",
     "text": [
      "[[ 0.  0.  5. 13.  9.  1.  0.  0.  0.  0. 13. 15. 10. 15.  5.  0.  0.  3.\n",
      "  15.  2.  0. 11.  8.  0.  0.  4. 12.  0.  0.  8.  8.  0.  0.  5.  8.  0.\n",
      "   0.  9.  8.  0.  0.  4. 11.  0.  1. 12.  7.  0.  0.  2. 14.  5. 10. 12.\n",
      "   0.  0.  0.  0.  6. 13. 10.  0.  0.  0.]]\n",
      "[0]\n"
     ]
    }
   ],
   "source": [
    "import numpy as np\n",
    "from sklearn.model_selection import GridSearchCV, train_test_split\n",
    "from sklearn.metrics import classification_report,confusion_matrix  \n",
    "from sklearn import datasets, svm, tree\n",
    "from sklearn.ensemble import AdaBoostClassifier  \n",
    "import matplotlib.pyplot as plt\n",
    "\n",
    "\n",
    "# Load the digit data\n",
    "digits = datasets.load_digits()\n",
    "# View the features of the first observation\n",
    "print(digits.data[0:1])\n",
    "\n",
    "print(digits.target[0:1])\n"
   ]
  },
  {
   "cell_type": "markdown",
   "metadata": {},
   "source": [
    "## 二.切割训练集、测试集（固定比例7:3）"
   ]
  },
  {
   "cell_type": "code",
   "execution_count": 2,
   "metadata": {},
   "outputs": [],
   "source": [
    "X = np.array(digits.data)\n",
    "Y = digits.target\n",
    "X_train, X_test, Y_train, Y_test = train_test_split(X, Y, test_size=0.30)  "
   ]
  },
  {
   "cell_type": "markdown",
   "metadata": {},
   "source": [
    "## 三.用scikit learn的DecisionTreeClassifier进行分类模型训练"
   ]
  },
  {
   "cell_type": "code",
   "execution_count": 3,
   "metadata": {},
   "outputs": [],
   "source": [
    "tclf = tree.DecisionTreeClassifier()\n",
    "tclf = tclf.fit(X_train, Y_train)\n"
   ]
  },
  {
   "cell_type": "markdown",
   "metadata": {},
   "source": [
    "## 四.测试集上的分类效果，即每个类别的precision, recall, f1"
   ]
  },
  {
   "cell_type": "code",
   "execution_count": 4,
   "metadata": {},
   "outputs": [
    {
     "name": "stdout",
     "output_type": "stream",
     "text": [
      "[[48  0  0  0  0  1  0  0  0  0]\n",
      " [ 0 37  3  1  1  0  0  0  3  1]\n",
      " [ 1  3 37  2  0  2  0  1  4  0]\n",
      " [ 0  2  1 47  2  0  0  0  0  2]\n",
      " [ 1  3  1  0 52  0  2  2  3  1]\n",
      " [ 0  1  1  2  0 49  1  0  4  2]\n",
      " [ 0  1  1  0  1  0 38  0  0  0]\n",
      " [ 0  0  0  2  9  0  0 53  2  1]\n",
      " [ 0  4  3  5  0  1  0  2 43  1]\n",
      " [ 0  3  1  1  1  0  0  0  1 42]]\n",
      "              precision    recall  f1-score   support\n",
      "\n",
      "           0       0.96      0.98      0.97        49\n",
      "           1       0.69      0.80      0.74        46\n",
      "           2       0.77      0.74      0.76        50\n",
      "           3       0.78      0.87      0.82        54\n",
      "           4       0.79      0.80      0.79        65\n",
      "           5       0.92      0.82      0.87        60\n",
      "           6       0.93      0.93      0.93        41\n",
      "           7       0.91      0.79      0.85        67\n",
      "           8       0.72      0.73      0.72        59\n",
      "           9       0.84      0.86      0.85        49\n",
      "\n",
      "    accuracy                           0.83       540\n",
      "   macro avg       0.83      0.83      0.83       540\n",
      "weighted avg       0.83      0.83      0.83       540\n",
      "\n"
     ]
    }
   ],
   "source": [
    "Y_pred = tclf.predict(X_test)\n",
    "print(confusion_matrix(Y_test, Y_pred))  \n",
    "print(classification_report(Y_test, Y_pred))"
   ]
  },
  {
   "cell_type": "markdown",
   "metadata": {},
   "source": [
    "## 五.用AdaBoostClassifier包装DecisionTreeClassifier，完成"
   ]
  },
  {
   "cell_type": "markdown",
   "metadata": {},
   "source": [
    "### 5.1分类模型训练"
   ]
  },
  {
   "cell_type": "code",
   "execution_count": 9,
   "metadata": {},
   "outputs": [
    {
     "data": {
      "text/plain": [
       "AdaBoostClassifier(algorithm='SAMME',\n",
       "                   base_estimator=DecisionTreeClassifier(class_weight=None,\n",
       "                                                         criterion='gini',\n",
       "                                                         max_depth=8,\n",
       "                                                         max_features=None,\n",
       "                                                         max_leaf_nodes=None,\n",
       "                                                         min_impurity_decrease=0.0,\n",
       "                                                         min_impurity_split=None,\n",
       "                                                         min_samples_leaf=5,\n",
       "                                                         min_samples_split=20,\n",
       "                                                         min_weight_fraction_leaf=0.0,\n",
       "                                                         presort=False,\n",
       "                                                         random_state=None,\n",
       "                                                         splitter='best'),\n",
       "                   learning_rate=0.8, n_estimators=200, random_state=None)"
      ]
     },
     "execution_count": 9,
     "metadata": {},
     "output_type": "execute_result"
    }
   ],
   "source": [
    "bdt = AdaBoostClassifier(tree.DecisionTreeClassifier(max_depth=8, min_samples_split=20, min_samples_leaf=5), algorithm=\"SAMME\", n_estimators=200, learning_rate=0.8)\n",
    "bdt.fit(X_train,Y_train ) \n"
   ]
  },
  {
   "cell_type": "markdown",
   "metadata": {},
   "source": [
    "### 5.2显示每个类别的precision, recall, f1"
   ]
  },
  {
   "cell_type": "code",
   "execution_count": 10,
   "metadata": {},
   "outputs": [
    {
     "name": "stdout",
     "output_type": "stream",
     "text": [
      "[[60  0  0  0  0  0  0  0  0  0]\n",
      " [ 0 52  0  0  0  0  0  0  0  0]\n",
      " [ 0  1 51  0  0  0  0  0  0  0]\n",
      " [ 0  0  0 57  0  0  0  0  0  0]\n",
      " [ 0  0  0  0 53  0  0  1  0  0]\n",
      " [ 0  0  0  0  0 46  1  0  0  0]\n",
      " [ 0  0  0  0  0  0 53  0  0  0]\n",
      " [ 0  0  0  0  0  0  0 52  0  2]\n",
      " [ 0  3  0  0  0  0  0  0 50  0]\n",
      " [ 0  0  0  1  0  0  0  0  2 55]]\n",
      "              precision    recall  f1-score   support\n",
      "\n",
      "           0       1.00      1.00      1.00        60\n",
      "           1       0.93      1.00      0.96        52\n",
      "           2       1.00      0.98      0.99        52\n",
      "           3       0.98      1.00      0.99        57\n",
      "           4       1.00      0.98      0.99        54\n",
      "           5       1.00      0.98      0.99        47\n",
      "           6       0.98      1.00      0.99        53\n",
      "           7       0.98      0.96      0.97        54\n",
      "           8       0.96      0.94      0.95        53\n",
      "           9       0.96      0.95      0.96        58\n",
      "\n",
      "    accuracy                           0.98       540\n",
      "   macro avg       0.98      0.98      0.98       540\n",
      "weighted avg       0.98      0.98      0.98       540\n",
      "\n"
     ]
    }
   ],
   "source": [
    "Z = bdt.predict(X_test)\n",
    "print(confusion_matrix(Y_test, Z))  \n",
    "print(classification_report(Y_test, Z))"
   ]
  },
  {
   "cell_type": "markdown",
   "metadata": {},
   "source": [
    "##### 尝试不同数量的决策树,观察AdaBoostClassifier中决策树数目不同对评测精度的影响,给出你的观察."
   ]
  },
  {
   "cell_type": "code",
   "execution_count": null,
   "metadata": {},
   "outputs": [],
   "source": []
  }
 ],
 "metadata": {
  "kernelspec": {
   "display_name": "Python 3",
   "language": "python",
   "name": "python3"
  },
  "language_info": {
   "codemirror_mode": {
    "name": "ipython",
    "version": 3
   },
   "file_extension": ".py",
   "mimetype": "text/x-python",
   "name": "python",
   "nbconvert_exporter": "python",
   "pygments_lexer": "ipython3",
   "version": "3.7.4"
  }
 },
 "nbformat": 4,
 "nbformat_minor": 4
}
